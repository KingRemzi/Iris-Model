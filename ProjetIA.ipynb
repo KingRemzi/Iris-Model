{
  "cells": [
    {
      "cell_type": "code",
      "execution_count": 14,
      "metadata": {
        "id": "DhgKOtzWSffT"
      },
      "outputs": [],
      "source": [
        "import tensorflow as tf\n",
        "import matplotlib.pyplot as plt\n",
        "import pandas as pd\n",
        "import numpy as np\n",
        "from sklearn.preprocessing import StandardScaler\n",
        "from imblearn.over_sampling import RandomOverSampler\n",
        "import random"
      ]
    },
    {
      "cell_type": "code",
      "execution_count": 15,
      "metadata": {
        "id": "Ndr322QoS7LZ"
      },
      "outputs": [],
      "source": [
        "from sklearn.svm import SVC\n",
        "from sklearn.metrics import classification_report"
      ]
    },
    {
      "cell_type": "code",
      "execution_count": 16,
      "metadata": {
        "colab": {
          "base_uri": "https://localhost:8080/"
        },
        "id": "iK3GaVo-VKJh",
        "outputId": "b587f91c-fdc9-47b1-a979-960217135a0b"
      },
      "outputs": [
        {
          "name": "stdout",
          "output_type": "stream",
          "text": [
            "150 5\n",
            "     sepal.length  sepal.width  petal.length  petal.width     variety\n",
            "5             5.4          3.9           1.7          0.4      Setosa\n",
            "94            5.6          2.7           4.2          1.3  Versicolor\n",
            "112           6.8          3.0           5.5          2.1   Virginica\n",
            "81            5.5          2.4           3.7          1.0  Versicolor\n",
            "88            5.6          3.0           4.1          1.3  Versicolor\n",
            "101           5.8          2.7           5.1          1.9   Virginica\n",
            "114           5.8          2.8           5.1          2.4   Virginica\n",
            "70            5.9          3.2           4.8          1.8  Versicolor\n",
            "142           5.8          2.7           5.1          1.9   Virginica\n",
            "104           6.5          3.0           5.8          2.2   Virginica\n",
            "125           7.2          3.2           6.0          1.8   Virginica\n",
            "147           6.5          3.0           5.2          2.0   Virginica\n",
            "45            4.8          3.0           1.4          0.3      Setosa\n",
            "39            5.1          3.4           1.5          0.2      Setosa\n",
            "15            5.7          4.4           1.5          0.4      Setosa\n",
            "68            6.2          2.2           4.5          1.5  Versicolor\n",
            "116           6.5          3.0           5.5          1.8   Virginica\n",
            "105           7.6          3.0           6.6          2.1   Virginica\n",
            "66            5.6          3.0           4.5          1.5  Versicolor\n",
            "2             4.7          3.2           1.3          0.2      Setosa\n",
            "55            5.7          2.8           4.5          1.3  Versicolor\n",
            "128           6.4          2.8           5.6          2.1   Virginica\n",
            "35            5.0          3.2           1.2          0.2      Setosa\n",
            "71            6.1          2.8           4.0          1.3  Versicolor\n",
            "65            6.7          3.1           4.4          1.4  Versicolor\n",
            "90            5.5          2.6           4.4          1.2  Versicolor\n",
            "19            5.1          3.8           1.5          0.3      Setosa\n",
            "17            5.1          3.5           1.4          0.3      Setosa\n",
            "29            4.7          3.2           1.6          0.2      Setosa\n",
            "144           6.7          3.3           5.7          2.5   Virginica\n",
            "20            5.4          3.4           1.7          0.2      Setosa\n",
            "78            6.0          2.9           4.5          1.5  Versicolor\n",
            "77            6.7          3.0           5.0          1.7  Versicolor\n",
            "43            5.0          3.5           1.6          0.6      Setosa\n",
            "1             4.9          3.0           1.4          0.2      Setosa\n",
            "100           6.3          3.3           6.0          2.5   Virginica\n",
            "102           7.1          3.0           5.9          2.1   Virginica\n",
            "120           6.9          3.2           5.7          2.3   Virginica\n"
          ]
        }
      ],
      "source": [
        "df = pd.read_csv(\"iris\\iris.csv\")\n",
        "nb_row, nb_col = df.shape\n",
        "print(nb_row, nb_col)\n",
        "print(df.sample(frac=0.25))"
      ]
    },
    {
      "cell_type": "code",
      "execution_count": 17,
      "metadata": {
        "id": "vwtDXxX4WE61"
      },
      "outputs": [],
      "source": [
        "def scale_dataset(dataframe, oversample=False):\n",
        "  X = dataframe[dataframe.columns[:-1]].values\n",
        "  y = dataframe[dataframe.columns[-1]].values\n",
        "\n",
        "  scaler = StandardScaler()\n",
        "  X = scaler.fit_transform(X)\n",
        "\n",
        "  if oversample:\n",
        "    ros = RandomOverSampler()\n",
        "    X, y = ros.fit_resample(X, y)\n",
        "\n",
        "  data = np.hstack((X, np.reshape(y, (-1, 1))))\n",
        "\n",
        "  return data, X, y"
      ]
    },
    {
      "cell_type": "code",
      "execution_count": 31,
      "metadata": {
        "id": "_Izypb13VsDw"
      },
      "outputs": [],
      "source": [
        "#train, valid, test = np.split(df.sample(frac=1), [int(0.7*len(df)), int(0.71*len(df))])\n",
        "\n",
        "train, test = np.split(df.sample(frac=1), [int(0.7*len(df))])\n",
        "\n",
        "train, x_train, y_train = scale_dataset(train, oversample=True)\n",
        "#valid, x_valid, y_valid = scale_dataset(valid, oversample=False)\n",
        "test, x_test, y_test = scale_dataset(test, oversample=False)"
      ]
    },
    {
      "cell_type": "markdown",
      "metadata": {
        "id": "0vBZNcLIsO7p"
      },
      "source": [
        "## SVM"
      ]
    },
    {
      "cell_type": "code",
      "execution_count": 32,
      "metadata": {
        "id": "3vlmZ_nGS-v1"
      },
      "outputs": [],
      "source": [
        "svm_model = SVC(kernel='linear')\n",
        "svm_model = svm_model.fit(x_train, y_train)"
      ]
    },
    {
      "cell_type": "code",
      "execution_count": 33,
      "metadata": {
        "colab": {
          "base_uri": "https://localhost:8080/"
        },
        "id": "it0f7F3UVxfZ",
        "outputId": "ce13d780-a32d-4726-a0ca-9238083a647a"
      },
      "outputs": [
        {
          "name": "stdout",
          "output_type": "stream",
          "text": [
            "              precision    recall  f1-score   support\n",
            "\n",
            "      Setosa       1.00      1.00      1.00        17\n",
            "  Versicolor       1.00      0.86      0.92        14\n",
            "   Virginica       0.88      1.00      0.93        14\n",
            "\n",
            "    accuracy                           0.96        45\n",
            "   macro avg       0.96      0.95      0.95        45\n",
            "weighted avg       0.96      0.96      0.96        45\n",
            "\n"
          ]
        }
      ],
      "source": [
        "y_pred = svm_model.predict(x_test)\n",
        "print(classification_report(y_test, y_pred))\n",
        "#SVC(kernel='rbf') => accuracy = 0.9\n",
        "#SVC(kernel='linear') => accuracy = 0.93\n",
        "#SVC(kernel='poly') => accuracy = 0.83\n",
        "#SVC(kernel='sigmoid') => accuracy = 0.9\n",
        "\n",
        "#if we modify % of dataset in train and test, it modify the accuracy"
      ]
    },
    {
      "cell_type": "code",
      "execution_count": null,
      "metadata": {
        "id": "0FUTzaU7a3Pt"
      },
      "outputs": [],
      "source": []
    },
    {
      "cell_type": "markdown",
      "metadata": {
        "id": "5F_bUqfmsW2Z"
      },
      "source": [
        "## Log Regression"
      ]
    },
    {
      "cell_type": "code",
      "execution_count": 28,
      "metadata": {
        "id": "pKf8jzFNsZ3E"
      },
      "outputs": [],
      "source": [
        "from sklearn.linear_model import LogisticRegression"
      ]
    },
    {
      "cell_type": "code",
      "execution_count": 34,
      "metadata": {
        "id": "iQERfNvssgt7"
      },
      "outputs": [],
      "source": [
        "lg_model = LogisticRegression()\n",
        "lg_model = lg_model.fit(x_train,y_train)"
      ]
    },
    {
      "cell_type": "code",
      "execution_count": 35,
      "metadata": {
        "colab": {
          "base_uri": "https://localhost:8080/"
        },
        "id": "HBbzkTous68R",
        "outputId": "df2fee83-8408-401b-dcf6-6e125921f85a"
      },
      "outputs": [
        {
          "name": "stdout",
          "output_type": "stream",
          "text": [
            "              precision    recall  f1-score   support\n",
            "\n",
            "      Setosa       1.00      1.00      1.00        17\n",
            "  Versicolor       1.00      0.86      0.92        14\n",
            "   Virginica       0.88      1.00      0.93        14\n",
            "\n",
            "    accuracy                           0.96        45\n",
            "   macro avg       0.96      0.95      0.95        45\n",
            "weighted avg       0.96      0.96      0.96        45\n",
            "\n"
          ]
        }
      ],
      "source": [
        "y_pred = lg_model.predict(x_test)\n",
        "print(classification_report(y_test,y_pred))"
      ]
    },
    {
      "cell_type": "markdown",
      "metadata": {
        "id": "1TlkKoXkuQti"
      },
      "source": [
        "## TensorFlow"
      ]
    },
    {
      "cell_type": "code",
      "execution_count": null,
      "metadata": {
        "id": "2nj21JqjuTFW"
      },
      "outputs": [],
      "source": []
    }
  ],
  "metadata": {
    "colab": {
      "provenance": []
    },
    "kernelspec": {
      "display_name": "Python 3",
      "name": "python3"
    },
    "language_info": {
      "codemirror_mode": {
        "name": "ipython",
        "version": 3
      },
      "file_extension": ".py",
      "mimetype": "text/x-python",
      "name": "python",
      "nbconvert_exporter": "python",
      "pygments_lexer": "ipython3",
      "version": "3.9.16"
    }
  },
  "nbformat": 4,
  "nbformat_minor": 0
}
